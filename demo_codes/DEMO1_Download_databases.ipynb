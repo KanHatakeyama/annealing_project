{
 "cells": [
  {
   "cell_type": "markdown",
   "metadata": {},
   "source": [
    "# Download databases needed for analyses"
   ]
  },
  {
   "cell_type": "code",
   "execution_count": 1,
   "metadata": {},
   "outputs": [],
   "source": [
    "import urllib.request\n",
    "\n",
    "def download(url,filename):\n",
    "\n",
    "    filename=\"database/\"+filename\n",
    "    urllib.request.urlretrieve(url,filename)"
   ]
  },
  {
   "cell_type": "code",
   "execution_count": 2,
   "metadata": {},
   "outputs": [],
   "source": [
    "#BradleyDoublePlusGoodMeltingPointDataset\n",
    "url=\"https://raw.githubusercontent.com/connorcoley/conv_qsar_fast/master/data/BradleyDoublePlusGoodMeltingPointDataset.csv\"\n",
    "filename=\"BradleyDoublePlusGoodMeltingPointDataset.csv\"\n",
    "download(url,filename)"
   ]
  },
  {
   "cell_type": "markdown",
   "metadata": {},
   "source": [
    "# ACS does not seem to allow access from python\n",
    "- Please download following files manually and save them in \"database\" folder\n",
    "    - Solar cell\n",
    "        - URL: https://pubs.acs.org/doi/suppl/10.1021/acs.jpclett.8b00635/suppl_file/jz8b00635_si_002.txt\n",
    "        - filename: solarcell.csv\n",
    "        \n",
    "    - Delaney dataset\n",
    "        - URL: https://pubs.acs.org/doi/suppl/10.1021/ci034243x/suppl_file/ci034243xsi20040112_053635.txt\n",
    "        - filename: delaney.csv"
   ]
  }
 ],
 "metadata": {
  "kernelspec": {
   "display_name": "Python 3",
   "language": "python",
   "name": "python3"
  },
  "language_info": {
   "codemirror_mode": {
    "name": "ipython",
    "version": 3
   },
   "file_extension": ".py",
   "mimetype": "text/x-python",
   "name": "python",
   "nbconvert_exporter": "python",
   "pygments_lexer": "ipython3",
   "version": "3.7.6"
  }
 },
 "nbformat": 4,
 "nbformat_minor": 4
}
